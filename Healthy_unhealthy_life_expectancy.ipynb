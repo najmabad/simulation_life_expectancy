{
 "cells": [
  {
   "cell_type": "markdown",
   "metadata": {},
   "source": [
    "# Healthy and Unhealthy life expectancy by income quintile"
   ]
  },
  {
   "cell_type": "markdown",
   "metadata": {},
   "source": [
    "**Data source:** _Survey of Health, Ageing and Retirement in Europe (SHARE)_"
   ]
  },
  {
   "cell_type": "code",
   "execution_count": 1,
   "metadata": {},
   "outputs": [],
   "source": [
    "# import libraries\n",
    "import pandas as pd\n",
    "import numpy as np\n",
    "import matplotlib.pyplot as plt\n",
    "import seaborn as sns\n",
    "import random\n",
    "from tqdm import tqdm\n",
    "%matplotlib inline"
   ]
  },
  {
   "cell_type": "markdown",
   "metadata": {},
   "source": [
    "# Data"
   ]
  },
  {
   "cell_type": "code",
   "execution_count": null,
   "metadata": {
    "scrolled": true
   },
   "outputs": [],
   "source": [
    "# Load the allwaves_cv_r dataset\n",
    "df_deaths = pd.read_stata(\"/Users/elitebook840/Desktop/SHARE_datasets/sharewX_rel6-1-0_gv_allwaves_cv_r.dta\")\n",
    "df_deaths.index = df_deaths['mergeid']\n",
    "df_deaths = df_deaths[['deadoralive_w1', 'deadoralive_w2', 'deadoralive_w3', 'deadoralive_w4', 'deadoralive_w5', 'deadoralive_w6']]\n",
    "\n",
    "# Load easySHARE\n",
    "df = pd.read_stata(\"/Users/elitebook840/Desktop/SHARE_datasets/easySHARE_rel6-1-0.dta\")\n",
    "df.index = df['mergeid']\n",
    "df = pd.merge(df, df_deaths, how='left', left_index=True, right_index=True)"
   ]
  },
  {
   "cell_type": "markdown",
   "metadata": {},
   "source": [
    "# Data setup"
   ]
  },
  {
   "cell_type": "code",
   "execution_count": null,
   "metadata": {},
   "outputs": [],
   "source": [
    "# Define interview length\n",
    "wave_interview_length = {\n",
    "    1: 2,\n",
    "    2: 4,\n",
    "    4: 2,\n",
    "    5: 2\n",
    "}"
   ]
  },
  {
   "cell_type": "code",
   "execution_count": null,
   "metadata": {},
   "outputs": [],
   "source": [
    "# Exclude Wave 3\n",
    "df = df[df['wave'] != 3 ]\n",
    "\n",
    "# Filter the dataset to include only those countries that partecipates in wave 1,2,4,5,6\n",
    "countries = ['11. Austria', '23. Belgium','20. Switzerland','12. Germany','18. Denmark','15. Spain','17. France','16. Italy', '13. Sweden']\n",
    "df = df[df['country'].str.contains('|'.join(countries))]\n",
    "\n",
    "# Filter for individuals age > 50\n",
    "df['age'] = pd.to_numeric(df['age'], errors='coerce')\n",
    "df = df[df['age'] >= 50]\n",
    "\n",
    "# Uncomment the line below to carry out the analysis for a single country\n",
    "#df = df[df['country'] == '18. Denmark']"
   ]
  },
  {
   "cell_type": "markdown",
   "metadata": {},
   "source": [
    "# Variables"
   ]
  },
  {
   "cell_type": "code",
   "execution_count": null,
   "metadata": {},
   "outputs": [],
   "source": [
    "# Recode the variable female\n",
    "df['gender'] = (df['female'] == '1. female').astype(int)"
   ]
  },
  {
   "cell_type": "code",
   "execution_count": null,
   "metadata": {},
   "outputs": [],
   "source": [
    "# Add the variable age^2\n",
    "df['age_squared'] = df['age']**2"
   ]
  },
  {
   "cell_type": "code",
   "execution_count": null,
   "metadata": {},
   "outputs": [],
   "source": [
    "# Create dummy for dead\n",
    "def dead_map (row):\n",
    "    idx = 'deadoralive_w{}'.format(int(row['wave']) + 1)\n",
    "    if row['wave'] < 6 and row[idx] == 'Dead':\n",
    "        return 1\n",
    "    elif row['wave'] < 6 and row[idx] == 'Unknown':\n",
    "        return None\n",
    "    else:\n",
    "        return 0\n",
    "\n",
    "df['dead_lead'] = df.apply(dead_map, axis=1)\n",
    "\n",
    "# Create dummy for disabled\n",
    "df['adla'] = pd.to_numeric(df['adla'], errors='coerce')\n",
    "def adla_map (row):\n",
    "    if row['adla']==0:\n",
    "        return 0\n",
    "    if row['adla']>0:\n",
    "        return 1\n",
    "\n",
    "df['disabled'] = df.apply(adla_map, axis=1)\n",
    "\n",
    "# Create a variable for income decile\n",
    "def income (r):\n",
    "    if not str(r['income_pct_w1']).startswith(\"-13\"):\n",
    "        return r['income_pct_w1']\n",
    "    if not str(r['income_pct_w2']).startswith(\"-13\"):\n",
    "        return r['income_pct_w2']\n",
    "    if not str(r['income_pct_w4']).startswith(\"-13\"):\n",
    "        return r['income_pct_w4']\n",
    "    if not str(r['income_pct_w5']).startswith(\"-13\"):\n",
    "        return r['income_pct_w5']\n",
    "    if not str(r['income_pct_w6']).startswith(\"-13\"):\n",
    "        return r['income_pct_w6']\n",
    "\n",
    "df['income'] = df.apply(income,axis=1)\n"
   ]
  },
  {
   "cell_type": "code",
   "execution_count": null,
   "metadata": {},
   "outputs": [],
   "source": [
    "# For all recorded deads, create a new row for the individual \n",
    "# and assign the dead event to an age chosen at random in the interval between the current and the next interview\n",
    "\n",
    "to_add = []\n",
    "\n",
    "for idx, row in df.iterrows():\n",
    "    if row['dead_lead'] == 1:\n",
    "        # duplicate the row except for the following variables\n",
    "        age_of_death = row['age'] + random.random() * wave_interview_length[row['wave']]\n",
    "        row['wave'] = row['wave'] + 1 if row['wave'] != 2 else 4\n",
    "        row['age'] = age_of_death\n",
    "        row['age_squared'] = (age_of_death)**2\n",
    "        row['dead'] = 1\n",
    "        to_add.append(row)\n",
    "\n",
    "df['dead'] = 0\n",
    "\n",
    "# Append the death rows to the original dataframe\n",
    "df = pd.concat([df, pd.DataFrame(to_add)])\n",
    "\n",
    "# Restate the variable \"mergeid\" as index of the concatenated dataset\n",
    "df.index = df['mergeid']"
   ]
  },
  {
   "cell_type": "code",
   "execution_count": null,
   "metadata": {},
   "outputs": [],
   "source": [
    "# Create a variable for possible states (healthy, disabled, dead )\n",
    "\n",
    "def y_map(row):\n",
    "    if row['dead'] == 1:\n",
    "        return 0\n",
    "    elif row['disabled'] == 1:\n",
    "        return 1\n",
    "    elif row['dead'] == 0 and row['disabled'] == 0:\n",
    "        return 2\n",
    "    else:\n",
    "        return None\n",
    "    \n",
    "df['y'] = df.apply(y_map, axis=1)\n"
   ]
  },
  {
   "cell_type": "code",
   "execution_count": null,
   "metadata": {},
   "outputs": [],
   "source": [
    "# Create a variable for disabled state\n",
    "\n",
    "df['disabled_lag'] = df.groupby(['mergeid'])['disabled'].shift(1)"
   ]
  },
  {
   "cell_type": "markdown",
   "metadata": {},
   "source": [
    "## Descriptive statistics"
   ]
  },
  {
   "cell_type": "code",
   "execution_count": null,
   "metadata": {},
   "outputs": [],
   "source": [
    "pd.pivot_table(\n",
    "    df, \n",
    "    columns=['country'], \n",
    "    index=['wave'], \n",
    "    values=['mergeid'],\n",
    "    aggfunc='count'\n",
    ").T"
   ]
  },
  {
   "cell_type": "code",
   "execution_count": null,
   "metadata": {},
   "outputs": [],
   "source": [
    "pd.pivot_table(\n",
    "    df, \n",
    "    columns=['country'], \n",
    "    index=['wave'], \n",
    "    values=['gender'],\n",
    ").T"
   ]
  },
  {
   "cell_type": "code",
   "execution_count": null,
   "metadata": {},
   "outputs": [],
   "source": [
    "pd.pivot_table(\n",
    "    df, \n",
    "    columns=['country'], \n",
    "    index=['wave'], \n",
    "    values=['disabled'],\n",
    ").T"
   ]
  },
  {
   "cell_type": "markdown",
   "metadata": {},
   "source": [
    "# Multinomial Logistic Regression"
   ]
  },
  {
   "cell_type": "code",
   "execution_count": null,
   "metadata": {},
   "outputs": [],
   "source": [
    "from sklearn.linear_model import LogisticRegression\n",
    "\n",
    "df = df[df['gender']== False] # change to True to compute the transition probabilities for female\n",
    "covariates = ['income', 'age', 'age_squared', 'disabled_lag', 'disabled'] # define the covariates\n",
    "output = 'y' # define the output. In this case y takes value 0 = dead, 1 = disabled, 2 = healthy\n",
    "\n",
    "dfs = (df[covariates]-df[covariates].mean())/df[covariates].std() # standardise the dataset \n",
    "\n",
    "dfs['y'] = df['y'] # change the outcome column of the new standardised dataset to be equal\n",
    "# to the column of the original dataset so that standardisation is not performed on the output\n",
    "\n",
    "\n",
    "dfs['disabled'] = df['disabled'] # do not apply standardisation on the variable disabled\n",
    "\n",
    "\n",
    "dfs.dropna(how='any', inplace=True) # drop any missing value in the standardised dataset\n",
    "df.dropna(how='any', inplace=True) # drop any missing value in the orginial dataset"
   ]
  },
  {
   "cell_type": "markdown",
   "metadata": {},
   "source": [
    "## Transition probabilities"
   ]
  },
  {
   "cell_type": "code",
   "execution_count": null,
   "metadata": {},
   "outputs": [],
   "source": [
    "# Dead, Disabled, Alive\n",
    "from IPython.display import display\n",
    "\n",
    "for state in ['dead', 'disabled']:\n",
    "    lr = LogisticRegression() # lr is our LogisticRegression instance\n",
    "    if state == 'disabled':  # if the person is disabled, we will regress on this restricted set of coviariates, \n",
    "        # otherwise we will use the complete list (that includes \"disabled\")\n",
    "        tcovariates = ['income', 'age', 'age_squared', 'disabled_lag'] \n",
    "    else:\n",
    "        tcovariates = list(covariates)\n",
    "    lr.fit(y=(dfs['y'] == int(state=='disabled')), X=dfs[tcovariates]) # fit the logistic regression\n",
    "    print(\"Transition model coefficients for state:\", state) \n",
    "    coeffs = dict(zip(tcovariates, lr.coef_[0])) # create a dictionary of the covariates and their respective coefficiets\n",
    "    coeffs['_constant'] = lr.intercept_[0] # save the constant as part of the coeffs dictionary created above\n",
    "    # save the computed coefficients into a new variable\n",
    "    if state == 'dead':\n",
    "        dead_betas = coeffs \n",
    "    if state == 'disabled':\n",
    "        disabled_betas = coeffs\n",
    "        \n",
    "    # cast the dictionary to a pandas dataframe so that we can export it in latex\n",
    "    coef_df = pd.DataFrame.from_dict([coeffs]).T #.T is used to transpose the results\n",
    "    coef_df.columns = ['coef. (Male)'] # specify the columns name\n",
    "    print(coef_df.round(3).to_latex()) # 'coef_df.round(3)' rounds the results up to the third decimal point. \n",
    "    # .to_latex() translates the output in Latex syntax"
   ]
  },
  {
   "cell_type": "markdown",
   "metadata": {},
   "source": [
    "## Simulation"
   ]
  },
  {
   "cell_type": "code",
   "execution_count": null,
   "metadata": {},
   "outputs": [],
   "source": [
    "# define the logistic function\n",
    "def logistic(expr):\n",
    "    \"\"\"\n",
    "    Logistic Function\n",
    "    \"\"\"\n",
    "    return 1 / (1 + np.exp(-expr))\n",
    "\n",
    "# create a dictionary containing all the transition coefficients by state\n",
    "transition_table = {\n",
    "    'dead': dead_betas,\n",
    "    'disabled': disabled_betas\n",
    "}\n",
    "\n",
    "# define a new class \"person\". see https://docs.python.org/3/tutorial/classes.html\n",
    "class Person:\n",
    "    def __init__(self,\n",
    "                 age,\n",
    "                 age_squared,\n",
    "                 income,\n",
    "                 disabled_lag,\n",
    "                 disabled,\n",
    "                 transition_table):\n",
    "        \"\"\"\n",
    "        Initialize the person object with its attributes.\n",
    "        Every attribute is initialized as a vector which \n",
    "        will be filled with a new value each time that the person \n",
    "        transitions. The starting value of the vector is the one \n",
    "        passed to the constructor. Here below the starting values:\n",
    "        \"\"\"\n",
    "        self.dead = [False]\n",
    "        self.age = [age]\n",
    "        self.age_squared = [age_squared]\n",
    "        self.income = [income]\n",
    "        self.disabled_lag = [disabled_lag]\n",
    "        self.disabled = [disabled]\n",
    "        self.transition_table = transition_table\n",
    "\n",
    "    def transition(self):\n",
    "        \"\"\"\n",
    "        Transition is created as a method of the class \"person\".\n",
    "        self allows to access the attribues specific to a given instance.\n",
    "        This method transitions the individual to the next time period\n",
    "        \"\"\"\n",
    "        if self.dead[-1]: #if the last value of the array \"dead\" is true, stops the exectution\n",
    "            return\n",
    "        \n",
    "        # otherwise execute the following transition:\n",
    "\n",
    "        for key in self.transition_table.keys(): \n",
    "            # .key() is a method of dictionaries that return the list of the dictionary's keys\n",
    "            # Iterate over the transition table variables that will be evolved \n",
    "            # assign the value of the key in the transition table dictionary to a new variable \"beta_var\"\n",
    "            beta_var = self.transition_table[key]\n",
    "            # e.g. key -> \"dead\", beta_var -> coefficients for \n",
    "            # transitioning dead status. Note that \"beta_var\" will be a dictionary with keys equal to\n",
    "            # the coefficients of the transition probabilities and values equal to the values fitted above. \n",
    "            \n",
    "            # to obtain the value for \"expr\" needed for the logistic function (see above)\n",
    "            # we multiply each covariate by its coefficient and then sum all the values.\n",
    "            # Then we apply a logistic transformation to the resulting value to get a probability.\n",
    "            # At this point draw from a [0, 1] uniform and if \n",
    "            # logistic result >= the random value, update the \n",
    "            # logistic variable to 1 (i.e. the individual makes the transition to the key we are \n",
    "            # currently consider in the for loop); else to 0 (i.e. the individual does not make the\n",
    "            # transition).\n",
    "            \n",
    "            result = 0 \n",
    "            for other_var in beta_var.keys(): # iterate over covariates\n",
    "                if other_var == '_constant': # if the model has an intercept add it to the resulting value \n",
    "                    result += beta_var['_constant']\n",
    "                else:\n",
    "                    result += beta_var[other_var] * getattr(self, other_var)[-1] \n",
    "                    # multiply the coefficient\n",
    "                    # of the covariate and the value of the covariate in the last transition\n",
    "            \n",
    "            beta_var_pr = logistic(result) # apply logit transform to the resulting value to get a probability\n",
    "            random_beta_var = random.random() # draw from a random uniform 0,1\n",
    "            if beta_var_pr >= random_beta_var: # if the logit probability > random draw\n",
    "                # Add a new entry to the vector representing the attribute of the instance\n",
    "                \n",
    "                # For instance, if the attribute of the instance is \"dead\" (`key` in the code below)\n",
    "                # we add a new entry to the vector \"dead\" equal to True since the individual \n",
    "                # is now dead from the condition above.\n",
    "                \n",
    "                setattr(self, key, getattr(self, key) + [True]) # add True (equivalent to 1)\n",
    "            else:\n",
    "                setattr(self, key, getattr(self, key) + [False]) # add False (equivalent to 0)\n",
    "\n",
    "        self.age.append(self.age[-1] + 1) # age is transitioned with a simple +1 increase at every time period\n",
    "        self.age_squared.append((self.age[-1] + 1) ** 2) # same reasoning goes for age squared (which is then squared)"
   ]
  },
  {
   "cell_type": "code",
   "execution_count": null,
   "metadata": {},
   "outputs": [],
   "source": [
    "first_rows = dfs.groupby('mergeid').first() # we define a new dataset which considers only the first row of each group\n",
    "first_rows_unst = df[covariates + [output]].groupby('mergeid').first() # same for the unstandardised values"
   ]
  },
  {
   "cell_type": "code",
   "execution_count": null,
   "metadata": {
    "scrolled": false
   },
   "outputs": [],
   "source": [
    "healthy_life = {1:[], 2:[], 3:[], 4:[], 5:[], 6:[], 7:[], 8:[], 9:[], 10:[]} # create a dictionary for healthy life by\n",
    "# income decile\n",
    "unhealthy_life = {1:[], 2:[], 3:[], 4:[], 5:[], 6:[], 7:[], 8:[], 9:[], 10:[]} # same for unhealthy life\n",
    "\n",
    "for income in range(1, 11): # loop over each income decile\n",
    "    incomes = [] # start with an empty list\n",
    "    ages_at_death = [] # vector to store the death ages for all the people in the income decile\n",
    "    for idx, row in tqdm(first_rows[first_rows.index.isin((first_rows_unst[first_rows_unst['income'] == income].index))].iterrows()):\n",
    "        # select only individuals in the income decile we are considering in the loop\n",
    "        # generate a person instance by copying the attributes defined in the dataset rows\n",
    "        person = Person(\n",
    "            age=row['age'],\n",
    "            age_squared=row['age_squared'],\n",
    "            income=row['income'],\n",
    "            disabled_lag=row['disabled_lag'],\n",
    "            disabled=row['disabled'],\n",
    "            transition_table=transition_table\n",
    "        )\n",
    "        \n",
    "        while not person.dead[-1]: # transition a person until she is not dead\n",
    "            person.transition()\n",
    "        \n",
    "        p_healthy_life = None # Determine how many years she lived healthy\n",
    "        p_unhealthy_life = None # And how many unhealthy\n",
    "        for age, disabled in zip(person.age, person.disabled): # Iterating over the age/disabled vectors\n",
    "            if disabled == True: # The first time you observe that the person becomes disabled\n",
    "                p_healthy_life = age * df['age'].std() + df['age'].mean() # The person lived healthy until then \n",
    "                # (age was standardised so we retrieve the unstardardised value)\n",
    "                p_healthy_life -=1\n",
    "                p_unhealthy_life = (person.age[-1] * df['age'].std() + df['age'].mean()) - p_healthy_life # And will\n",
    "                # be unhealthy till the end of his life (we assume individuals cannot recover from disability)\n",
    "                break # Exit the for loop\n",
    "                \n",
    "        if p_healthy_life is None: # If the person never become unhealthy\n",
    "            p_healthy_life = person.age[-1] * df['age'].std() + df['age'].mean() # Register that she lived healthy for all of their life\n",
    "            p_unhealthy_life = 0 # And unhealthy for 0 years\n",
    "        \n",
    "        healthy_life[income].append(p_healthy_life) # Add the simulated healthy life year estimates to the income vector cohort\n",
    "        unhealthy_life[income].append(p_unhealthy_life) # Add the simulated unhealthy life year estimates to the income vector cohort\n",
    "        \n",
    "        ages_at_death.append((person.age[-1] * df['age'].std()) + df['age'].mean()) # Add the overall life estimate to the ages_at_death vector\n",
    "\n",
    "    plt.hist(ages_at_death) # Plot the histogram of the ages at death (no difference between healthy/unhealthy)\n",
    "    plt.axvline(np.mean(ages_at_death), color='red') # Mark the median with a red line\n",
    "    plt.title(\"Simulated life expectancy, income decile = {}\".format(income))\n",
    "    plt.grid()\n",
    "    plt.show()"
   ]
  },
  {
   "cell_type": "markdown",
   "metadata": {},
   "source": [
    "Below we create a plot for healthy and unhealthy life expectancy.\n",
    "\n",
    "TO DO: change the path for automatically saving the plots"
   ]
  },
  {
   "cell_type": "code",
   "execution_count": null,
   "metadata": {},
   "outputs": [],
   "source": [
    "h_y = np.array([np.mean(healthy_life[income]) for income in range(1, 11)]) # compute the mean for healthy\n",
    "# life by income decile\n",
    "u_y = np.array([np.mean(unhealthy_life[income]) for income in range(1, 11)]) # same for unhealthy\n",
    "\n",
    "p1 = plt.bar(range(1, 11), h_y, 0.5) # plot for healthy life\n",
    "p2 = plt.bar(range(1, 11), u_y, 0.5, # stack the plot for unhealthy life over the one of healthy life\n",
    "             bottom=h_y, color='#d62728')\n",
    "\n",
    "plt.title(\"Lifespan healthy/unhealthy for male\")\n",
    "plt.xticks(range(1, 11))\n",
    "plt.grid()\n",
    "plt.savefig('/Users/elitebook840/Desktop/Figures/DHLE_male.jpg', format='jpeg') \n",
    "\n",
    "\n",
    "plt.figure()\n",
    "plt.title(\"% lifespan spent as disabled for male\")\n",
    "p1 = plt.bar(range(1, 11), u_y/(h_y+u_y), 0.5)\n",
    "plt.xticks(range(1, 11))\n",
    "plt.grid()\n",
    "plt.savefig('/Users/elitebook840/Desktop/Figures/Disabled_lifespan_male.jpg', format='jpeg')\n"
   ]
  }
 ],
 "metadata": {
  "kernelspec": {
   "display_name": "Python 3",
   "language": "python",
   "name": "python3"
  },
  "language_info": {
   "codemirror_mode": {
    "name": "ipython",
    "version": 3
   },
   "file_extension": ".py",
   "mimetype": "text/x-python",
   "name": "python",
   "nbconvert_exporter": "python",
   "pygments_lexer": "ipython3",
   "version": "3.6.5"
  }
 },
 "nbformat": 4,
 "nbformat_minor": 2
}
